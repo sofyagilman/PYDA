{
 "cells": [
  {
   "cell_type": "code",
   "execution_count": 2,
   "metadata": {},
   "outputs": [
    {
     "data": {
      "text/plain": [
       "True"
      ]
     },
     "execution_count": 2,
     "metadata": {},
     "output_type": "execute_result"
    }
   ],
   "source": [
    "long_phrase = 'Насколько проще было бы писать программы, если бы не заказчики'\n",
    "short_phrase = '640Кб должно хватить для любых задач. Билл Гейтс (по легенде)'\n",
    "len(long_phrase)>len(short_phrase)"
   ]
  },
  {
   "cell_type": "code",
   "execution_count": 8,
   "metadata": {},
   "outputs": [
    {
     "name": "stdout",
     "output_type": "stream",
     "text": [
      "Ведите в байтах474746464\n",
      "Объем файла равен 452.75\n"
     ]
    }
   ],
   "source": [
    "volume_byte=int(input(\"Ведите в байтах\"))\n",
    "print (\"Объем файла равен\", round(volume_byte/1024/1024,2))\n"
   ]
  },
  {
   "cell_type": "code",
   "execution_count": 10,
   "metadata": {},
   "outputs": [
    {
     "name": "stdout",
     "output_type": "stream",
     "text": [
      "Ведите месяцДекабрь\n",
      "Ведите число25\n",
      "Козерог\n"
     ]
    }
   ],
   "source": [
    "month=input(\"Ведите месяц \")\n",
    "day=int(input(\"Ведите число \"))\n",
    "if (day >= 23 and month==\"Декабрь\") or (day <= 19 and month==\"Январь\"):\n",
    "    print(\"Козерог\")\n",
    "elif (day >= 20 and month==\"Январь\") or (day <= 19 and month==\"Февраль\"):\n",
    "    print(\"Водолей\")\n",
    "elif (day >= 20 and month==\"Февраль\") or (day <= 21 and month==\"Март\"):\n",
    "    print(\"Рыба\")\n",
    "elif (day >= 22 and month==\"Март\") or (day <= 21 and month==\"Апрель\"):\n",
    "    print(\"Овен\")\n",
    "elif (day >= 22 and month==\"Апрель\") or (day <= 21 and month==\"Май\"):\n",
    "    print(\"Телец\")\n",
    "elif (day >= 22 and month==\"Май\") or (day <= 21 and month==\"Июнь\"):\n",
    "    print(\"Близнецы\")\n",
    "elif (day >= 22 and month==\"Июнь\") or (day <= 21 and month==\"Июль\"):\n",
    "    print(\"Рак\")\n",
    "elif (day >= 22 and month==\"Июль\") or (day <= 21 and month==\"Август\"):\n",
    "    print(\"Лев\")\n",
    "elif (day >= 22 and month==\"Август\") or (day <= 21 and month==\"Сентябрь\"):\n",
    "    print(\"Дева\")\n",
    "elif (day >= 22 and month==\"Сентябрь\") or (day <= 21 and month==\"Октябрь\"):\n",
    "    print(\"Весы\")\n",
    "elif (day >= 22 and month==\"Октябрь\") or (day <= 20 and month==\"Ноябрь\"):\n",
    "    print(\"Скорпион\")\n",
    "elif (day >= 21 and month==\"Ноябрь\") or (day <= 22 and month==\"Декабрь\"):\n",
    "    print(\"Стрелец\")"
   ]
  },
  {
   "cell_type": "code",
   "execution_count": 16,
   "metadata": {},
   "outputs": [
    {
     "name": "stdout",
     "output_type": "stream",
     "text": [
      "Ведите заработанную плату в месяц 11\n",
      "Cколько раз приходит премия в год? 1\n",
      "Сколько процентов от ЗП уходит на ипотеку? 70\n",
      "Cколько процентов от ЗП уходит \"на жизнь\"? 40\n",
      "Вот это Вам не повезло\n"
     ]
    }
   ],
   "source": [
    "salary=int(input(\"Ведите заработанную плату в месяц \"))\n",
    "bonus_count=int(input(\"Cколько раз приходит премия в год? \"))\n",
    "credit_share=int(input(\"Сколько процентов от ЗП уходит на ипотеку? \"))\n",
    "life_share=int(input('Cколько процентов от ЗП уходит \"на жизнь\"? '))\n",
    "if credit_share+life_share>100:\n",
    "    print(\"Вот это Вам не повезло\")\n",
    "else:\n",
    "    print (\"На ипотеку было потрачено: \",salary*12*credit_share/100,\n",
    "       \"Было накоплено: \",(salary*bonus_count/2) + 12*salary-(salary*12*credit_share/100)-(salary*12*life_share/100))\n"
   ]
  },
  {
   "cell_type": "code",
   "execution_count": null,
   "metadata": {},
   "outputs": [],
   "source": []
  }
 ],
 "metadata": {
  "kernelspec": {
   "display_name": "Python 3",
   "language": "python",
   "name": "python3"
  },
  "language_info": {
   "codemirror_mode": {
    "name": "ipython",
    "version": 3
   },
   "file_extension": ".py",
   "mimetype": "text/x-python",
   "name": "python",
   "nbconvert_exporter": "python",
   "pygments_lexer": "ipython3",
   "version": "3.7.6"
  }
 },
 "nbformat": 4,
 "nbformat_minor": 4
}
